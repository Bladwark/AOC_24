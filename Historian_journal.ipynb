{
 "cells": [
  {
   "cell_type": "markdown",
   "metadata": {},
   "source": [
    "DAY 1"
   ]
  },
  {
   "cell_type": "code",
   "execution_count": 5,
   "metadata": {},
   "outputs": [
    {
     "data": {
      "text/plain": [
       "1941353"
      ]
     },
     "execution_count": 5,
     "metadata": {},
     "output_type": "execute_result"
    }
   ],
   "source": [
    "# first star\n",
    "with open('Data/input_day1.txt') as fd:\n",
    "    pairs = list(map(lambda x: x.strip().split('   '),fd.readlines()))\n",
    "first_list = []\n",
    "second_list = []\n",
    "for first, second in pairs:\n",
    "    first_list.append(int(first))\n",
    "    second_list.append(int(second))\n",
    "res = sum([abs(first - second) for first, second in zip(sorted(first_list),sorted(second_list))])\n",
    "res"
   ]
  },
  {
   "cell_type": "code",
   "execution_count": 6,
   "metadata": {},
   "outputs": [
    {
     "data": {
      "text/plain": [
       "22539317"
      ]
     },
     "execution_count": 6,
     "metadata": {},
     "output_type": "execute_result"
    }
   ],
   "source": [
    "# second star\n",
    "from collections import Counter\n",
    "frequancy = Counter(second_list)\n",
    "res = sum([el* frequancy[el] for el in first_list])\n",
    "res"
   ]
  },
  {
   "cell_type": "markdown",
   "metadata": {},
   "source": [
    "DAY 2"
   ]
  },
  {
   "cell_type": "code",
   "execution_count": 67,
   "metadata": {},
   "outputs": [
    {
     "data": {
      "text/plain": [
       "486"
      ]
     },
     "execution_count": 67,
     "metadata": {},
     "output_type": "execute_result"
    }
   ],
   "source": [
    "# first star\n",
    "SAFE_DIFFERENCE = set([1,2,3])\n",
    "def is_sorted(my_list):\n",
    "    return all(my_list[i] <= my_list[i+1] for i in range(len(my_list)-1)) or all(my_list[i] >= my_list[i+1] for i in range(len(my_list)-1))\n",
    "\n",
    "def correct_adjecancy(my_list):\n",
    "    return all(abs(my_list[i] - my_list[i+1]) in SAFE_DIFFERENCE for i in range(len(my_list)-1))\n",
    "\n",
    "with open('Data/input_day2.txt') as fd:\n",
    "    reports = list(map(lambda x: list(map(int,x.strip().split(' '))),fd.readlines()))\n",
    "safe = set()\n",
    "unsafe = set()\n",
    "for report in reports:\n",
    "    if is_sorted(report) and correct_adjecancy(report):\n",
    "        safe.add(tuple(report))\n",
    "    else:\n",
    "        unsafe.add(tuple(report))\n",
    "len(safe)\n"
   ]
  },
  {
   "cell_type": "code",
   "execution_count": 68,
   "metadata": {},
   "outputs": [
    {
     "data": {
      "text/plain": [
       "540"
      ]
     },
     "execution_count": 68,
     "metadata": {},
     "output_type": "execute_result"
    }
   ],
   "source": [
    "#second star\n",
    "new_safe = set()\n",
    "for report in unsafe:\n",
    "    for i,_ in enumerate(report):\n",
    "        fixed_word = report[:i] + report[i+1:]\n",
    "        if is_sorted(fixed_word) and correct_adjecancy(fixed_word):\n",
    "            new_safe.add(tuple(fixed_word))\n",
    "            break\n",
    "\n",
    "len(new_safe)\n",
    "len(safe.union(new_safe))"
   ]
  },
  {
   "cell_type": "markdown",
   "metadata": {},
   "source": [
    "DAY 3"
   ]
  },
  {
   "cell_type": "code",
   "execution_count": 303,
   "metadata": {},
   "outputs": [
    {
     "data": {
      "text/plain": [
       "187825547"
      ]
     },
     "execution_count": 303,
     "metadata": {},
     "output_type": "execute_result"
    }
   ],
   "source": [
    "import re\n",
    "with open('Data/input_day3.txt') as fd:\n",
    "    reports = \" \".join(fd.read().split(\"\\n\"))\n",
    "    # reports = fd.read()\n",
    "\n",
    "def calculate_muls(set_of_instructions):\n",
    "    return sum([ pairs[0] * pairs[1] for elem in re.findall(r\"mul\\(\\d{1,3},\\d{1,3}\\)\",set_of_instructions) if (pairs:=eval(elem[3:]))])\n",
    "\n",
    "calculate_muls(reports)"
   ]
  },
  {
   "cell_type": "code",
   "execution_count": 304,
   "metadata": {},
   "outputs": [
    {
     "data": {
      "text/plain": [
       "85508223"
      ]
     },
     "execution_count": 304,
     "metadata": {},
     "output_type": "execute_result"
    }
   ],
   "source": [
    "# second star\n",
    "regex = r\"don't\\(\\).*?do\\(\\)|don't\\(\\).*$\"\n",
    "cleanded_reports = re.sub(pattern=regex,string=reports,repl='')\n",
    "calculate_muls(cleanded_reports)\n"
   ]
  },
  {
   "cell_type": "markdown",
   "metadata": {},
   "source": [
    "DAY4"
   ]
  },
  {
   "cell_type": "code",
   "execution_count": 372,
   "metadata": {},
   "outputs": [
    {
     "data": {
      "text/plain": [
       "5"
      ]
     },
     "execution_count": 372,
     "metadata": {},
     "output_type": "execute_result"
    }
   ],
   "source": [
    "def XMAS_rows(rows):\n",
    "    res = 0\n",
    "    for row in rows:\n",
    "        res += len(re.findall(\"XMAS\",row))\n",
    "        res += len(re.findall(\"SAMX\",row))\n",
    "    return res\n",
    "\n",
    "def XMAS_diagonal_lr(rows):\n",
    "    res = 0\n",
    "    for i in range(len(rows) - 3):\n",
    "        for j in range(len(rows[i])-3):\n",
    "            if rows[i][j] == 'X' and rows[i + 1][j + 1] == 'M' and rows[i + 2][j + 2] == 'A' and rows[i + 3][j + 3] == 'S':\n",
    "                res += 1\n",
    "            if rows[i][j] == 'S' and rows[i + 1][j + 1] == 'A' and rows[i + 2][j + 2] == 'M' and rows[i + 3][j + 3] == 'X':\n",
    "                res += 1\n",
    "    return res\n",
    "\n",
    "def XMAS_diagonal_rl(rows):\n",
    "    res = 0\n",
    "    for i in range(len(rows)-3):\n",
    "        for j in range(len(rows[i])-1,3,-1):\n",
    "            if rows[i][j] == 'X' and rows[i + 1][j - 1] == 'M' and rows[i + 2][j - 2] == 'A' and rows[i + 3][j - 3] == 'S':\n",
    "                res += 1\n",
    "            if rows[i][j] == 'S' and rows[i + 1][j - 1] == 'A' and rows[i + 2][j - 2] == 'M' and rows[i + 3][j - 3] == 'X':\n",
    "                res += 1\n",
    "    return res\n",
    "\n",
    "with open('Data/input_day4.txt') as fd:\n",
    "    rows = fd.readlines()\n",
    "transpose_rows = list(map(lambda x: \"\".join(x), zip(*rows)))\n",
    "transpose_rows\n",
    "# res = XMAS_rows(rows) + XMAS_rows(transpose_rows)\n",
    "res = XMAS_diagonal_lr(rows) \n",
    "# res = XMAS_rows(rows) + XMAS_diagonal_lr(rows) + XMAS_rows(transpose_rows) + XMAS_diagonal_rl(rows)\n",
    "res"
   ]
  }
 ],
 "metadata": {
  "kernelspec": {
   "display_name": "base",
   "language": "python",
   "name": "python3"
  },
  "language_info": {
   "codemirror_mode": {
    "name": "ipython",
    "version": 3
   },
   "file_extension": ".py",
   "mimetype": "text/x-python",
   "name": "python",
   "nbconvert_exporter": "python",
   "pygments_lexer": "ipython3",
   "version": "3.11.3"
  }
 },
 "nbformat": 4,
 "nbformat_minor": 2
}
